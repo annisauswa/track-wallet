{
 "cells": [
  {
   "cell_type": "code",
   "execution_count": 10,
   "metadata": {},
   "outputs": [
    {
     "name": "stdout",
     "output_type": "stream",
     "text": [
      "{'ACCOUNT_REGION': 'eastus', 'ACCOUNT_KEY': '4f47c6853d074715925ff2c1c957fe52'}\n"
     ]
    }
   ],
   "source": [
    "import os\n",
    "import sys\n",
    "import json\n",
    "\n",
    "with open(\".\\settings.json\", \"r\") as jsonfile:\n",
    "    settings = json.load(jsonfile)\n",
    "    print(settings)"
   ]
  },
  {
   "cell_type": "code",
   "execution_count": 3,
   "metadata": {},
   "outputs": [
    {
     "name": "stdout",
     "output_type": "stream",
     "text": [
      "Collecting azureNote: you may need to restart the kernel to use updated packages.\n",
      "\n",
      "  Using cached azure-5.0.0.zip (4.6 kB)\n",
      "  Preparing metadata (setup.py): started\n",
      "  Preparing metadata (setup.py): finished with status 'error'\n"
     ]
    },
    {
     "name": "stderr",
     "output_type": "stream",
     "text": [
      "  error: subprocess-exited-with-error\n",
      "  \n",
      "  × python setup.py egg_info did not run successfully.\n",
      "  │ exit code: 1\n",
      "  ╰─> [25 lines of output]\n",
      "      Traceback (most recent call last):\n",
      "        File \"<string>\", line 2, in <module>\n",
      "        File \"<pip-setuptools-caller>\", line 34, in <module>\n",
      "        File \"C:\\Users\\ACER\\AppData\\Local\\Temp\\pip-install-jto7k62e\\azure_14ac187bfc614810b77360a67766ac7c\\setup.py\", line 60, in <module>\n",
      "          raise RuntimeError(message)\n",
      "      RuntimeError:\n",
      "      \n",
      "      Starting with v5.0.0, the 'azure' meta-package is deprecated and cannot be installed anymore.\n",
      "      Please install the service specific packages prefixed by `azure` needed for your application.\n",
      "      \n",
      "      The complete list of available packages can be found at:\n",
      "      https://aka.ms/azsdk/python/all\n",
      "      \n",
      "      Here's a non-exhaustive list of common packages:\n",
      "      \n",
      "      -  azure-mgmt-compute (https://pypi.python.org/pypi/azure-mgmt-compute) : Management of Virtual Machines, etc.\n",
      "      -  azure-mgmt-storage (https://pypi.python.org/pypi/azure-mgmt-storage) : Management of storage accounts.\n",
      "      -  azure-mgmt-resource (https://pypi.python.org/pypi/azure-mgmt-resource) : Generic package about Azure Resource Management (ARM)\n",
      "      -  azure-keyvault-secrets (https://pypi.python.org/pypi/azure-keyvault-secrets) : Access to secrets in Key Vault\n",
      "      -  azure-storage-blob (https://pypi.python.org/pypi/azure-storage-blob) : Access to blobs in storage accounts\n",
      "      \n",
      "      A more comprehensive discussion of the rationale for this decision can be found in the following issue:\n",
      "      https://github.com/Azure/azure-sdk-for-python/issues/10646\n",
      "      \n",
      "      \n",
      "      [end of output]\n",
      "  \n",
      "  note: This error originates from a subprocess, and is likely not a problem with pip.\n",
      "error: metadata-generation-failed\n",
      "\n",
      "× Encountered error while generating package metadata.\n",
      "╰─> See above for output.\n",
      "\n",
      "note: This is an issue with the package mentioned above, not pip.\n",
      "hint: See above for details.\n"
     ]
    }
   ],
   "source": [
    "pip install azure"
   ]
  },
  {
   "cell_type": "code",
   "execution_count": 6,
   "metadata": {},
   "outputs": [
    {
     "name": "stdout",
     "output_type": "stream",
     "text": [
      "Collecting azure-cognitiveservices-vision-computervision\n",
      "  Downloading azure_cognitiveservices_vision_computervision-0.9.0-py2.py3-none-any.whl.metadata (24 kB)\n",
      "Collecting msrest>=0.5.0 (from azure-cognitiveservices-vision-computervision)\n",
      "  Downloading msrest-0.7.1-py3-none-any.whl.metadata (21 kB)\n",
      "Collecting azure-common~=1.1 (from azure-cognitiveservices-vision-computervision)\n",
      "  Downloading azure_common-1.1.28-py2.py3-none-any.whl.metadata (5.0 kB)\n",
      "Collecting azure-core>=1.24.0 (from msrest>=0.5.0->azure-cognitiveservices-vision-computervision)\n",
      "  Downloading azure_core-1.30.1-py3-none-any.whl.metadata (37 kB)\n",
      "Requirement already satisfied: certifi>=2017.4.17 in c:\\users\\acer\\anaconda3\\lib\\site-packages (from msrest>=0.5.0->azure-cognitiveservices-vision-computervision) (2024.2.2)\n",
      "Collecting isodate>=0.6.0 (from msrest>=0.5.0->azure-cognitiveservices-vision-computervision)\n",
      "  Downloading isodate-0.6.1-py2.py3-none-any.whl.metadata (9.6 kB)\n",
      "Collecting requests-oauthlib>=0.5.0 (from msrest>=0.5.0->azure-cognitiveservices-vision-computervision)\n",
      "  Downloading requests_oauthlib-2.0.0-py2.py3-none-any.whl.metadata (11 kB)\n",
      "Requirement already satisfied: requests~=2.16 in c:\\users\\acer\\anaconda3\\lib\\site-packages (from msrest>=0.5.0->azure-cognitiveservices-vision-computervision) (2.31.0)\n",
      "Requirement already satisfied: six>=1.11.0 in c:\\users\\acer\\anaconda3\\lib\\site-packages (from azure-core>=1.24.0->msrest>=0.5.0->azure-cognitiveservices-vision-computervision) (1.16.0)\n",
      "Requirement already satisfied: typing-extensions>=4.6.0 in c:\\users\\acer\\anaconda3\\lib\\site-packages (from azure-core>=1.24.0->msrest>=0.5.0->azure-cognitiveservices-vision-computervision) (4.9.0)\n",
      "Requirement already satisfied: charset-normalizer<4,>=2 in c:\\users\\acer\\anaconda3\\lib\\site-packages (from requests~=2.16->msrest>=0.5.0->azure-cognitiveservices-vision-computervision) (2.0.4)\n",
      "Requirement already satisfied: idna<4,>=2.5 in c:\\users\\acer\\anaconda3\\lib\\site-packages (from requests~=2.16->msrest>=0.5.0->azure-cognitiveservices-vision-computervision) (3.4)\n",
      "Requirement already satisfied: urllib3<3,>=1.21.1 in c:\\users\\acer\\anaconda3\\lib\\site-packages (from requests~=2.16->msrest>=0.5.0->azure-cognitiveservices-vision-computervision) (2.0.7)\n",
      "Collecting oauthlib>=3.0.0 (from requests-oauthlib>=0.5.0->msrest>=0.5.0->azure-cognitiveservices-vision-computervision)\n",
      "  Downloading oauthlib-3.2.2-py3-none-any.whl.metadata (7.5 kB)\n",
      "Downloading azure_cognitiveservices_vision_computervision-0.9.0-py2.py3-none-any.whl (39 kB)\n",
      "Downloading azure_common-1.1.28-py2.py3-none-any.whl (14 kB)\n",
      "Downloading msrest-0.7.1-py3-none-any.whl (85 kB)\n",
      "   ---------------------------------------- 0.0/85.4 kB ? eta -:--:--\n",
      "   -------------------------------------- - 81.9/85.4 kB 2.3 MB/s eta 0:00:01\n",
      "   ---------------------------------------- 85.4/85.4 kB 1.6 MB/s eta 0:00:00\n",
      "Downloading azure_core-1.30.1-py3-none-any.whl (193 kB)\n",
      "   ---------------------------------------- 0.0/193.4 kB ? eta -:--:--\n",
      "   ------------------------- -------------- 122.9/193.4 kB 3.6 MB/s eta 0:00:01\n",
      "   -------------------------------------- - 184.3/193.4 kB 2.2 MB/s eta 0:00:01\n",
      "   ---------------------------------------- 193.4/193.4 kB 1.9 MB/s eta 0:00:00\n",
      "Downloading isodate-0.6.1-py2.py3-none-any.whl (41 kB)\n",
      "   ---------------------------------------- 0.0/41.7 kB ? eta -:--:--\n",
      "   ---------------------------------------- 41.7/41.7 kB 2.0 MB/s eta 0:00:00\n",
      "Downloading requests_oauthlib-2.0.0-py2.py3-none-any.whl (24 kB)\n",
      "Downloading oauthlib-3.2.2-py3-none-any.whl (151 kB)\n",
      "   ---------------------------------------- 0.0/151.7 kB ? eta -:--:--\n",
      "   ------------------------ --------------- 92.2/151.7 kB ? eta -:--:--\n",
      "   ---------------------------------------- 151.7/151.7 kB 4.6 MB/s eta 0:00:00\n",
      "Installing collected packages: azure-common, oauthlib, isodate, requests-oauthlib, azure-core, msrest, azure-cognitiveservices-vision-computervision\n",
      "Successfully installed azure-cognitiveservices-vision-computervision-0.9.0 azure-common-1.1.28 azure-core-1.30.1 isodate-0.6.1 msrest-0.7.1 oauthlib-3.2.2 requests-oauthlib-2.0.0\n",
      "Note: you may need to restart the kernel to use updated packages.\n"
     ]
    }
   ],
   "source": [
    "pip install azure-cognitiveservices-vision-computervision"
   ]
  },
  {
   "cell_type": "code",
   "execution_count": 11,
   "metadata": {},
   "outputs": [],
   "source": [
    "from azure.cognitiveservices.vision.computervision import ComputerVisionClient\n",
    "from azure.cognitiveservices.vision.computervision.models import VisualFeatureTypes\n",
    "from msrest.authentication import CognitiveServicesCredentials\n",
    "\n",
    "region = settings[\"ACCOUNT_REGION\"]\n",
    "key = settings[\"ACCOUNT_KEY\"]\n",
    "\n",
    "credentials = CognitiveServicesCredentials(key)\n",
    "client = ComputerVisionClient(\n",
    "    endpoint=\"https://ocr-track-wallet.cognitiveservices.azure.com/\",\n",
    "    credentials=credentials\n",
    ")"
   ]
  },
  {
   "cell_type": "code",
   "execution_count": 22,
   "metadata": {},
   "outputs": [],
   "source": [
    "from azure.cognitiveservices.vision.computervision.models import OperationStatusCodes\n",
    "import time\n",
    "\n",
    "def extract_text_from_image(image_path):\n",
    "    with open(image_path, \"rb\") as image:\n",
    "        rawHttpResponse = client.read_in_stream(image, language=\"id\", raw=True)\n",
    "        operation_location = rawHttpResponse.headers[\"Operation-Location\"]\n",
    "        id_location = len(operation_location) - 36\n",
    "        operation_id = operation_location[id_location:]\n",
    "\n",
    "        while True:\n",
    "            result = client.get_read_result(operation_id)\n",
    "            if result.status not in ['notStarted', 'running']:\n",
    "                break\n",
    "            time.sleep(1)\n",
    "\n",
    "    return result\n",
    "    "
   ]
  },
  {
   "cell_type": "code",
   "execution_count": 23,
   "metadata": {},
   "outputs": [],
   "source": [
    "result = extract_text_from_image(\"./image/tes.jpeg\")"
   ]
  },
  {
   "cell_type": "code",
   "execution_count": 24,
   "metadata": {},
   "outputs": [
    {
     "data": {
      "text/plain": [
       "<OperationStatusCodes.succeeded: 'succeeded'>"
      ]
     },
     "execution_count": 24,
     "metadata": {},
     "output_type": "execute_result"
    }
   ],
   "source": [
    "result.status"
   ]
  },
  {
   "cell_type": "code",
   "execution_count": 95,
   "metadata": {},
   "outputs": [
    {
     "name": "stdout",
     "output_type": "stream",
     "text": [
      "MIXUE\n",
      "SINCE 1997-ICE CREAM & TEA\n",
      "DINE IN#138\n",
      "Kaliurang\n",
      "Nomor nota: 240518135710038\n",
      "Waktu pemesanan: 2024-05-18 13:57:56\n",
      "Nama\n",
      "harga satuan Kuantitas\n",
      "Subtotal\n",
      ".Brown Sugar Pearl Milk Tea(Tall)\n",
      "21,000\n",
      "1\n",
      "21,000\n",
      "Atribut: normal ice,normal sugar\n",
      "Pesch Tea\n",
      "18,000\n",
      "1\n",
      "18,000\n",
      "Atribut: normal ice, normal sugar\n",
      ".Lemon Jasmine Tea\n",
      "14,000\n",
      "1\n",
      "14,000\n",
      "Atribut: less ice, less sugar\n",
      "Coconut Jelly Milk Tea(Grande)\n",
      "24,000\n",
      "1\n",
      "24,000\n",
      "Atribut: normal ice,less sugar\n",
      ".Oreo Sundae\n",
      "18,000\n",
      "1\n",
      "18,000\n",
      "Atribut: normal ice,normal sugar\n",
      "Total\n",
      "5\n",
      "95,000\n",
      "1.GoFood\n",
      "95,000\n",
      "Kasir: 80220145903\n",
      "Alamat: Ji. Kaliurang No.81 Km 5 Kocoran, Catur\n",
      "tunggal, Kec. Depok, Kabupaten Sleman, Daerah\n",
      "Istimewa Yogyakarta\n",
      "Waktu: 2024-05-18 13:57:59\n"
     ]
    }
   ],
   "source": [
    "receipt1 = ''\n",
    "if result.status == OperationStatusCodes.succeeded:\n",
    "    for line in result.analyze_result.read_results[0].lines:\n",
    "        print(line.text)\n",
    "        receipt1 += line.text + '\\n'"
   ]
  },
  {
   "cell_type": "code",
   "execution_count": null,
   "metadata": {},
   "outputs": [],
   "source": [
    "# result2 = extract_text_from_image(\"./image/tes2.jpg\")\n",
    "result2.status\n",
    "receipt2 = ''\n",
    "if result2.status == OperationStatusCodes.succeeded:\n",
    "    for line in result2.analyze_result.read_results[0].lines:\n",
    "        print(line.text)\n",
    "        receipt2 += line.text + '\\n'\n"
   ]
  },
  {
   "cell_type": "code",
   "execution_count": 105,
   "metadata": {},
   "outputs": [
    {
     "name": "stdout",
     "output_type": "stream",
     "text": [
      "COTO DG. STRUA\n",
      "ASUHAN HJ. SINGARA\n",
      "JL. ABD. DG. SIRUA NO. 10\n",
      "#000007 24/07/2015\n",
      "11:29\n",
      "01 CLERRO1\n",
      "000000\n",
      "1× 15000\n",
      "RR15000\n",
      "COTO\n",
      "1x 5000\n",
      "TEH MANIS\n",
      "Rp5000\n",
      "1× 1000\n",
      "Rp1000\n",
      "KETUPAT\n",
      "###TOTAL\n",
      "RP21000\n",
      "BAYAR\n",
      "Rp21000\n",
      "KEMBALI\n",
      "Re\n",
      "TERIMA KASIH\n",
      "ATAS KUNJUNGAN ANDA\n"
     ]
    }
   ],
   "source": [
    "result3 = extract_text_from_image(\"./image/tes3.jpeg\")\n",
    "result3.status\n",
    "receipt3 = ''\n",
    "if result3.status == OperationStatusCodes.succeeded:\n",
    "    for line in result3.analyze_result.read_results[0].lines:\n",
    "        print(line.text)\n",
    "        receipt3 += line.text + '\\n'\n"
   ]
  },
  {
   "cell_type": "code",
   "execution_count": 103,
   "metadata": {},
   "outputs": [],
   "source": [
    "import re\n",
    "\n",
    "def extract_items_and_prices(receipt_text):\n",
    "    items = []\n",
    "    \n",
    "    # Define regex patterns for matching item names and prices\n",
    "    item_pattern = re.compile(r'\\.?(.*?)\\n')\n",
    "    price_pattern = re.compile(r'Rp?*(\\d{1,3}(?:,\\d{3})*)')\n",
    "\n",
    "    # Find all item names and prices in the receipt text\n",
    "    item_matches = item_pattern.findall(receipt_text)\n",
    "    price_matches = price_pattern.findall(receipt_text)\n",
    "\n",
    "    # Remove non-item lines from item_matches\n",
    "    item_matches = [item for item in item_matches if any(char.isalpha() for char in item)]\n",
    "\n",
    "    # Convert price matches to integers\n",
    "    price_matches = [int(price.replace(',', '')) for price in price_matches]\n",
    "\n",
    "    # Create the items array\n",
    "    for item, price in zip(item_matches, price_matches):\n",
    "        # items.append({'item': item.strip(), 'price': price})\n",
    "        items = ({'item': item.strip(), 'price': price })\n",
    "    \n",
    "    return items"
   ]
  },
  {
   "cell_type": "code",
   "execution_count": 85,
   "metadata": {},
   "outputs": [
    {
     "data": {
      "text/plain": [
       "'F10F1NurPERTAMINA8%34.40111J1.CIPAGANTI, PASTEUR59SUKAJADI, BANDUNGShift : 2No Trans: 273512Waktu : 27/10/2021 16:03:415Pulau/Pompa :11Nama Produk :PERTAMAXHarga/Liter :Rp. 9,000Volume(L) 27.77K..Total Harga :Rp. 250,000Operator:TITINCASH250,0000AYO PATUHI 5M : MEMAKAI MASKER,MENCUCI TANGAN, MENJAGA JARAK,MEMBATASI KERUMUNAN & MOBILITASTERIMA KASIH'"
      ]
     },
     "execution_count": 85,
     "metadata": {},
     "output_type": "execute_result"
    }
   ],
   "source": [
    "receipt2"
   ]
  },
  {
   "cell_type": "code",
   "execution_count": 106,
   "metadata": {},
   "outputs": [
    {
     "name": "stdout",
     "output_type": "stream",
     "text": [
      "[]\n",
      "{'item': 'F1', 'price': 250000}\n",
      "[]\n"
     ]
    }
   ],
   "source": [
    "items1 = extract_items_and_prices(receipt1)\n",
    "items2 = extract_items_and_prices(receipt2)\n",
    "items3 = extract_items_and_prices(receipt3)\n",
    "\n",
    "print(items1)\n",
    "print(items2)\n",
    "print(items3)"
   ]
  }
 ],
 "metadata": {
  "kernelspec": {
   "display_name": "base",
   "language": "python",
   "name": "python3"
  },
  "language_info": {
   "codemirror_mode": {
    "name": "ipython",
    "version": 3
   },
   "file_extension": ".py",
   "mimetype": "text/x-python",
   "name": "python",
   "nbconvert_exporter": "python",
   "pygments_lexer": "ipython3",
   "version": "3.11.7"
  }
 },
 "nbformat": 4,
 "nbformat_minor": 2
}
